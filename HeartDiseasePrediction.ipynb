{
 "cells": [
  {
   "cell_type": "code",
   "execution_count": 60,
   "metadata": {
    "_cell_guid": "b1076dfc-b9ad-4769-8c92-a6c4dae69d19",
    "_uuid": "8f2839f25d086af736a60e9eeb907d3b93b6e0e5",
    "execution": {
     "iopub.execute_input": "2023-03-22T18:10:55.765317Z",
     "iopub.status.busy": "2023-03-22T18:10:55.764825Z",
     "iopub.status.idle": "2023-03-22T18:10:55.775552Z",
     "shell.execute_reply": "2023-03-22T18:10:55.773610Z",
     "shell.execute_reply.started": "2023-03-22T18:10:55.765280Z"
    }
   },
   "outputs": [],
   "source": [
    "import numpy as np\n",
    "import pandas as pd\n",
    "from scipy import stats\n",
    "from sklearn.impute import SimpleImputer\n",
    "import time\n",
    "import warnings\n",
    "warnings.filterwarnings(\"ignore\")\n",
    "\n",
    "import matplotlib.pyplot as plt\n",
    "import seaborn as sns\n",
    "\n",
    "from sklearn.model_selection import train_test_split\n",
    "from sklearn.metrics import accuracy_score, f1_score, confusion_matrix, classification_report\n",
    "from mlxtend.plotting import plot_confusion_matrix\n",
    "\n",
    "from sklearn.linear_model import LogisticRegression\n",
    "from sklearn.ensemble import RandomForestClassifier\n",
    "from sklearn.neighbors import KNeighborsClassifier\n",
    "from sklearn.naive_bayes import GaussianNB\n",
    "from xgboost import XGBClassifier"
   ]
  },
  {
   "cell_type": "markdown",
   "metadata": {},
   "source": [
    "# Part 1. Data reading"
   ]
  },
  {
   "cell_type": "code",
   "execution_count": 21,
   "metadata": {
    "execution": {
     "iopub.execute_input": "2023-03-22T17:39:51.502293Z",
     "iopub.status.busy": "2023-03-22T17:39:51.501498Z",
     "iopub.status.idle": "2023-03-22T17:39:52.498198Z",
     "shell.execute_reply": "2023-03-22T17:39:52.496657Z",
     "shell.execute_reply.started": "2023-03-22T17:39:51.502249Z"
    }
   },
   "outputs": [
    {
     "name": "stdout",
     "output_type": "stream",
     "text": [
      "<class 'pandas.core.frame.DataFrame'>\n",
      "RangeIndex: 319795 entries, 0 to 319794\n",
      "Data columns (total 18 columns):\n",
      " #   Column            Non-Null Count   Dtype  \n",
      "---  ------            --------------   -----  \n",
      " 0   HeartDisease      319795 non-null  object \n",
      " 1   BMI               319795 non-null  float64\n",
      " 2   Smoking           319795 non-null  object \n",
      " 3   AlcoholDrinking   319795 non-null  object \n",
      " 4   Stroke            319795 non-null  object \n",
      " 5   PhysicalHealth    319795 non-null  float64\n",
      " 6   MentalHealth      319795 non-null  float64\n",
      " 7   DiffWalking       319795 non-null  object \n",
      " 8   Sex               319795 non-null  object \n",
      " 9   AgeCategory       319795 non-null  object \n",
      " 10  Race              319795 non-null  object \n",
      " 11  Diabetic          319795 non-null  object \n",
      " 12  PhysicalActivity  319795 non-null  object \n",
      " 13  GenHealth         319795 non-null  object \n",
      " 14  SleepTime         319795 non-null  float64\n",
      " 15  Asthma            319795 non-null  object \n",
      " 16  KidneyDisease     319795 non-null  object \n",
      " 17  SkinCancer        319795 non-null  object \n",
      "dtypes: float64(4), object(14)\n",
      "memory usage: 43.9+ MB\n"
     ]
    }
   ],
   "source": [
    "data = pd.read_csv(\"../input/personal-key-indicators-of-heart-disease/heart_2020_cleaned.csv\")\n",
    "data.info()"
   ]
  },
  {
   "cell_type": "code",
   "execution_count": 22,
   "metadata": {
    "execution": {
     "iopub.execute_input": "2023-03-22T17:39:52.500490Z",
     "iopub.status.busy": "2023-03-22T17:39:52.500088Z",
     "iopub.status.idle": "2023-03-22T17:39:53.013904Z",
     "shell.execute_reply": "2023-03-22T17:39:53.012305Z",
     "shell.execute_reply.started": "2023-03-22T17:39:52.500455Z"
    }
   },
   "outputs": [
    {
     "name": "stdout",
     "output_type": "stream",
     "text": [
      "<class 'pandas.core.frame.DataFrame'>\n",
      "Int64Index: 319795 entries, 0 to 319794\n",
      "Data columns (total 18 columns):\n",
      " #   Column            Non-Null Count   Dtype  \n",
      "---  ------            --------------   -----  \n",
      " 0   HeartDisease      319795 non-null  object \n",
      " 1   BMI               319795 non-null  float64\n",
      " 2   Smoking           319795 non-null  object \n",
      " 3   AlcoholDrinking   319795 non-null  object \n",
      " 4   Stroke            319795 non-null  object \n",
      " 5   PhysicalHealth    319795 non-null  float64\n",
      " 6   MentalHealth      319795 non-null  float64\n",
      " 7   DiffWalking       319795 non-null  object \n",
      " 8   Sex               319795 non-null  object \n",
      " 9   AgeCategory       319795 non-null  object \n",
      " 10  Race              319795 non-null  object \n",
      " 11  Diabetic          319795 non-null  object \n",
      " 12  PhysicalActivity  319795 non-null  object \n",
      " 13  GenHealth         319795 non-null  object \n",
      " 14  SleepTime         319795 non-null  float64\n",
      " 15  Asthma            319795 non-null  object \n",
      " 16  KidneyDisease     319795 non-null  object \n",
      " 17  SkinCancer        319795 non-null  object \n",
      "dtypes: float64(4), object(14)\n",
      "memory usage: 46.4+ MB\n"
     ]
    }
   ],
   "source": [
    "data.dropna().info()"
   ]
  },
  {
   "cell_type": "markdown",
   "metadata": {},
   "source": [
    "# Part 2. Categorical data EDA"
   ]
  },
  {
   "cell_type": "markdown",
   "metadata": {},
   "source": [
    "General categorical variables info"
   ]
  },
  {
   "cell_type": "code",
   "execution_count": 23,
   "metadata": {
    "execution": {
     "iopub.execute_input": "2023-03-22T17:39:53.017539Z",
     "iopub.status.busy": "2023-03-22T17:39:53.017134Z",
     "iopub.status.idle": "2023-03-22T17:39:53.025455Z",
     "shell.execute_reply": "2023-03-22T17:39:53.023629Z",
     "shell.execute_reply.started": "2023-03-22T17:39:53.017502Z"
    }
   },
   "outputs": [
    {
     "name": "stdout",
     "output_type": "stream",
     "text": [
      "['KidneyDisease', 'Race', 'Smoking', 'AlcoholDrinking', 'SkinCancer', 'DiffWalking', 'PhysicalActivity', 'HeartDisease', 'Stroke', 'Asthma', 'Diabetic', 'Sex', 'AgeCategory', 'GenHealth']\n",
      "Number of categorical variables: 14\n"
     ]
    }
   ],
   "source": [
    "categorical_variables = list( set(data.columns) - set([\"BMI\", \"PhysicalHealth\", \"MentalHealth\", \"SleepTime\"]) )\n",
    "print(categorical_variables)\n",
    "print(f\"Number of categorical variables: {len(categorical_variables)}\")"
   ]
  },
  {
   "cell_type": "code",
   "execution_count": 24,
   "metadata": {
    "execution": {
     "iopub.execute_input": "2023-03-22T17:39:53.028193Z",
     "iopub.status.busy": "2023-03-22T17:39:53.027589Z",
     "iopub.status.idle": "2023-03-22T17:39:53.348866Z",
     "shell.execute_reply": "2023-03-22T17:39:53.347567Z",
     "shell.execute_reply.started": "2023-03-22T17:39:53.028124Z"
    }
   },
   "outputs": [
    {
     "name": "stdout",
     "output_type": "stream",
     "text": [
      "KidneyDisease: 2 unique values\n",
      "Race: 6 unique values\n",
      "Smoking: 2 unique values\n",
      "AlcoholDrinking: 2 unique values\n",
      "SkinCancer: 2 unique values\n",
      "DiffWalking: 2 unique values\n",
      "PhysicalActivity: 2 unique values\n",
      "HeartDisease: 2 unique values\n",
      "Stroke: 2 unique values\n",
      "Asthma: 2 unique values\n",
      "Diabetic: 4 unique values\n",
      "Sex: 2 unique values\n",
      "AgeCategory: 13 unique values\n",
      "GenHealth: 5 unique values\n"
     ]
    }
   ],
   "source": [
    "for cat_var in categorical_variables:\n",
    "    print(f\"{cat_var}: {len(data[cat_var].unique())} unique values\")"
   ]
  },
  {
   "cell_type": "markdown",
   "metadata": {},
   "source": [
    "**Visualization**"
   ]
  },
  {
   "cell_type": "code",
   "execution_count": 25,
   "metadata": {
    "execution": {
     "iopub.execute_input": "2023-03-22T17:39:53.351479Z",
     "iopub.status.busy": "2023-03-22T17:39:53.350775Z",
     "iopub.status.idle": "2023-03-22T17:39:53.361576Z",
     "shell.execute_reply": "2023-03-22T17:39:53.359424Z",
     "shell.execute_reply.started": "2023-03-22T17:39:53.351304Z"
    }
   },
   "outputs": [
    {
     "data": {
      "text/plain": [
       "'GenHealth'"
      ]
     },
     "execution_count": 25,
     "metadata": {},
     "output_type": "execute_result"
    }
   ],
   "source": [
    "cat_var"
   ]
  },
  {
   "cell_type": "code",
   "execution_count": 26,
   "metadata": {
    "execution": {
     "iopub.execute_input": "2023-03-22T17:39:53.364783Z",
     "iopub.status.busy": "2023-03-22T17:39:53.363601Z",
     "iopub.status.idle": "2023-03-22T17:39:53.378495Z",
     "shell.execute_reply": "2023-03-22T17:39:53.376650Z",
     "shell.execute_reply.started": "2023-03-22T17:39:53.364711Z"
    }
   },
   "outputs": [
    {
     "data": {
      "text/plain": [
       "0         Very good\n",
       "1         Very good\n",
       "2              Fair\n",
       "3              Good\n",
       "4         Very good\n",
       "            ...    \n",
       "319790         Fair\n",
       "319791    Very good\n",
       "319792         Good\n",
       "319793         Good\n",
       "319794         Good\n",
       "Name: GenHealth, Length: 319795, dtype: object"
      ]
     },
     "execution_count": 26,
     "metadata": {},
     "output_type": "execute_result"
    }
   ],
   "source": [
    "data[cat_var]"
   ]
  },
  {
   "cell_type": "code",
   "execution_count": 27,
   "metadata": {
    "execution": {
     "iopub.execute_input": "2023-03-22T17:39:53.381743Z",
     "iopub.status.busy": "2023-03-22T17:39:53.380461Z",
     "iopub.status.idle": "2023-03-22T17:39:53.390503Z",
     "shell.execute_reply": "2023-03-22T17:39:53.388551Z",
     "shell.execute_reply.started": "2023-03-22T17:39:53.381694Z"
    }
   },
   "outputs": [
    {
     "name": "stdout",
     "output_type": "stream",
     "text": [
      "KidneyDisease <class 'str'>\n",
      "Race <class 'str'>\n",
      "Smoking <class 'str'>\n",
      "AlcoholDrinking <class 'str'>\n",
      "SkinCancer <class 'str'>\n",
      "DiffWalking <class 'str'>\n",
      "PhysicalActivity <class 'str'>\n",
      "HeartDisease <class 'str'>\n",
      "Stroke <class 'str'>\n",
      "Asthma <class 'str'>\n",
      "Diabetic <class 'str'>\n",
      "Sex <class 'str'>\n",
      "AgeCategory <class 'str'>\n",
      "GenHealth <class 'str'>\n"
     ]
    }
   ],
   "source": [
    "for i in categorical_variables:\n",
    "  print(i,type(i))"
   ]
  },
  {
   "cell_type": "code",
   "execution_count": 28,
   "metadata": {
    "execution": {
     "iopub.execute_input": "2023-03-22T17:39:53.393180Z",
     "iopub.status.busy": "2023-03-22T17:39:53.392609Z",
     "iopub.status.idle": "2023-03-22T17:39:58.110089Z",
     "shell.execute_reply": "2023-03-22T17:39:58.108758Z",
     "shell.execute_reply.started": "2023-03-22T17:39:53.393127Z"
    }
   },
   "outputs": [
    {
     "data": {
      "image/png": "[encoded data removed]",
      "text/plain": [
       "<Figure size 1080x648 with 15 Axes>"
      ]
     },
     "metadata": {
      "needs_background": "light"
     },
     "output_type": "display_data"
    }
   ],
   "source": [
    "fig, axes = plt.subplots(3, 5)\n",
    "fig.set_size_inches(15, 9)\n",
    "fig.tight_layout(pad=5)\n",
    "k = 0\n",
    "\n",
    "for cat_var in categorical_variables:    \n",
    "    k = int( categorical_variables.index(cat_var)/5 )\n",
    "    sns.countplot(data[cat_var], ax=axes[k, categorical_variables.index(cat_var)%5])\n",
    "\n",
    "plt.plot()\n",
    "plt.show()"
   ]
  },
  {
   "cell_type": "markdown",
   "metadata": {},
   "source": [
    "**Correlation analysis**"
   ]
  },
  {
   "cell_type": "markdown",
   "metadata": {},
   "source": [
    "Data encoding."
   ]
  },
  {
   "cell_type": "code",
   "execution_count": 29,
   "metadata": {
    "execution": {
     "iopub.execute_input": "2023-03-22T17:39:58.114767Z",
     "iopub.status.busy": "2023-03-22T17:39:58.114301Z",
     "iopub.status.idle": "2023-03-22T17:39:58.147576Z",
     "shell.execute_reply": "2023-03-22T17:39:58.145615Z",
     "shell.execute_reply.started": "2023-03-22T17:39:58.114726Z"
    }
   },
   "outputs": [
    {
     "data": {
      "text/plain": [
       "array(['Yes', 'No', 'No, borderline diabetes', 'Yes (during pregnancy)'],\n",
       "      dtype=object)"
      ]
     },
     "execution_count": 29,
     "metadata": {},
     "output_type": "execute_result"
    }
   ],
   "source": [
    "data[\"Diabetic\"].unique()"
   ]
  },
  {
   "cell_type": "code",
   "execution_count": 30,
   "metadata": {
    "execution": {
     "iopub.execute_input": "2023-03-22T17:39:58.149855Z",
     "iopub.status.busy": "2023-03-22T17:39:58.149390Z",
     "iopub.status.idle": "2023-03-22T17:39:58.354365Z",
     "shell.execute_reply": "2023-03-22T17:39:58.352292Z",
     "shell.execute_reply.started": "2023-03-22T17:39:58.149813Z"
    }
   },
   "outputs": [],
   "source": [
    "data[\"Diabetic\"] = data[\"Diabetic\"].replace(\n",
    "    {\n",
    "        \"Yes\" : 3,\n",
    "        \"Yes (during pregnancy)\" : 2,\n",
    "        \"No, borderline diabetes\" : 1,\n",
    "        \"No\" : 1\n",
    "    }\n",
    ")"
   ]
  },
  {
   "cell_type": "code",
   "execution_count": 31,
   "metadata": {
    "execution": {
     "iopub.execute_input": "2023-03-22T17:39:58.357131Z",
     "iopub.status.busy": "2023-03-22T17:39:58.356516Z",
     "iopub.status.idle": "2023-03-22T17:39:58.394477Z",
     "shell.execute_reply": "2023-03-22T17:39:58.392976Z",
     "shell.execute_reply.started": "2023-03-22T17:39:58.357077Z"
    }
   },
   "outputs": [
    {
     "data": {
      "text/plain": [
       "array(['Very good', 'Fair', 'Good', 'Poor', 'Excellent'], dtype=object)"
      ]
     },
     "execution_count": 31,
     "metadata": {},
     "output_type": "execute_result"
    }
   ],
   "source": [
    "data[\"GenHealth\"].unique()"
   ]
  },
  {
   "cell_type": "code",
   "execution_count": 32,
   "metadata": {
    "execution": {
     "iopub.execute_input": "2023-03-22T17:39:58.397589Z",
     "iopub.status.busy": "2023-03-22T17:39:58.396186Z",
     "iopub.status.idle": "2023-03-22T17:39:58.642565Z",
     "shell.execute_reply": "2023-03-22T17:39:58.640962Z",
     "shell.execute_reply.started": "2023-03-22T17:39:58.397534Z"
    }
   },
   "outputs": [],
   "source": [
    "data[\"GenHealth\"] = data[\"GenHealth\"].replace(\n",
    "    {\n",
    "        'Excellent' : 4,\n",
    "        'Very good' : 3,\n",
    "        'Good' : 2,\n",
    "        'Fair' : 1,\n",
    "        'Poor' : 0\n",
    "    }\n",
    ")"
   ]
  },
  {
   "cell_type": "code",
   "execution_count": 33,
   "metadata": {
    "execution": {
     "iopub.execute_input": "2023-03-22T17:39:58.644727Z",
     "iopub.status.busy": "2023-03-22T17:39:58.644315Z",
     "iopub.status.idle": "2023-03-22T17:39:58.721513Z",
     "shell.execute_reply": "2023-03-22T17:39:58.719957Z",
     "shell.execute_reply.started": "2023-03-22T17:39:58.644692Z"
    }
   },
   "outputs": [
    {
     "data": {
      "text/html": [
       "<div>\n",
       "<style scoped>\n",
       "    .dataframe tbody tr th:only-of-type {\n",
       "        vertical-align: middle;\n",
       "    }\n",
       "\n",
       "    .dataframe tbody tr th {\n",
       "        vertical-align: top;\n",
       "    }\n",
       "\n",
       "    .dataframe thead th {\n",
       "        text-align: right;\n",
       "    }\n",
       "</style>\n",
       "<table border=\"1\" class=\"dataframe\">\n",
       "  <thead>\n",
       "    <tr style=\"text-align: right;\">\n",
       "      <th></th>\n",
       "      <th>KidneyDisease</th>\n",
       "      <th>Race</th>\n",
       "      <th>Smoking</th>\n",
       "      <th>AlcoholDrinking</th>\n",
       "      <th>SkinCancer</th>\n",
       "      <th>DiffWalking</th>\n",
       "      <th>PhysicalActivity</th>\n",
       "      <th>HeartDisease</th>\n",
       "      <th>Stroke</th>\n",
       "      <th>Asthma</th>\n",
       "      <th>Sex</th>\n",
       "      <th>AgeCategory</th>\n",
       "    </tr>\n",
       "  </thead>\n",
       "  <tbody>\n",
       "    <tr>\n",
       "      <th>0</th>\n",
       "      <td>No</td>\n",
       "      <td>White</td>\n",
       "      <td>Yes</td>\n",
       "      <td>No</td>\n",
       "      <td>Yes</td>\n",
       "      <td>No</td>\n",
       "      <td>Yes</td>\n",
       "      <td>No</td>\n",
       "      <td>No</td>\n",
       "      <td>Yes</td>\n",
       "      <td>Female</td>\n",
       "      <td>55-59</td>\n",
       "    </tr>\n",
       "    <tr>\n",
       "      <th>1</th>\n",
       "      <td>No</td>\n",
       "      <td>White</td>\n",
       "      <td>No</td>\n",
       "      <td>No</td>\n",
       "      <td>No</td>\n",
       "      <td>No</td>\n",
       "      <td>Yes</td>\n",
       "      <td>No</td>\n",
       "      <td>Yes</td>\n",
       "      <td>No</td>\n",
       "      <td>Female</td>\n",
       "      <td>80 or older</td>\n",
       "    </tr>\n",
       "    <tr>\n",
       "      <th>2</th>\n",
       "      <td>No</td>\n",
       "      <td>White</td>\n",
       "      <td>Yes</td>\n",
       "      <td>No</td>\n",
       "      <td>No</td>\n",
       "      <td>No</td>\n",
       "      <td>Yes</td>\n",
       "      <td>No</td>\n",
       "      <td>No</td>\n",
       "      <td>Yes</td>\n",
       "      <td>Male</td>\n",
       "      <td>65-69</td>\n",
       "    </tr>\n",
       "    <tr>\n",
       "      <th>3</th>\n",
       "      <td>No</td>\n",
       "      <td>White</td>\n",
       "      <td>No</td>\n",
       "      <td>No</td>\n",
       "      <td>Yes</td>\n",
       "      <td>No</td>\n",
       "      <td>No</td>\n",
       "      <td>No</td>\n",
       "      <td>No</td>\n",
       "      <td>No</td>\n",
       "      <td>Female</td>\n",
       "      <td>75-79</td>\n",
       "    </tr>\n",
       "    <tr>\n",
       "      <th>4</th>\n",
       "      <td>No</td>\n",
       "      <td>White</td>\n",
       "      <td>No</td>\n",
       "      <td>No</td>\n",
       "      <td>No</td>\n",
       "      <td>Yes</td>\n",
       "      <td>Yes</td>\n",
       "      <td>No</td>\n",
       "      <td>No</td>\n",
       "      <td>No</td>\n",
       "      <td>Female</td>\n",
       "      <td>40-44</td>\n",
       "    </tr>\n",
       "  </tbody>\n",
       "</table>\n",
       "</div>"
      ],
      "text/plain": [
       "  KidneyDisease   Race Smoking AlcoholDrinking SkinCancer DiffWalking  \\\n",
       "0            No  White     Yes              No        Yes          No   \n",
       "1            No  White      No              No         No          No   \n",
       "2            No  White     Yes              No         No          No   \n",
       "3            No  White      No              No        Yes          No   \n",
       "4            No  White      No              No         No         Yes   \n",
       "\n",
       "  PhysicalActivity HeartDisease Stroke Asthma     Sex  AgeCategory  \n",
       "0              Yes           No     No    Yes  Female        55-59  \n",
       "1              Yes           No    Yes     No  Female  80 or older  \n",
       "2              Yes           No     No    Yes    Male        65-69  \n",
       "3               No           No     No     No  Female        75-79  \n",
       "4              Yes           No     No     No  Female        40-44  "
      ]
     },
     "execution_count": 33,
     "metadata": {},
     "output_type": "execute_result"
    }
   ],
   "source": [
    "unencoded_cat_var = list(set(categorical_variables) - set([\"Diabetic\", \"GenHealth\"]))\n",
    "data[unencoded_cat_var].head()"
   ]
  },
  {
   "cell_type": "code",
   "execution_count": 34,
   "metadata": {
    "execution": {
     "iopub.execute_input": "2023-03-22T17:39:58.723729Z",
     "iopub.status.busy": "2023-03-22T17:39:58.723300Z",
     "iopub.status.idle": "2023-03-22T17:40:00.181240Z",
     "shell.execute_reply": "2023-03-22T17:40:00.179780Z",
     "shell.execute_reply.started": "2023-03-22T17:39:58.723688Z"
    }
   },
   "outputs": [
    {
     "data": {
      "text/html": [
       "<div>\n",
       "<style scoped>\n",
       "    .dataframe tbody tr th:only-of-type {\n",
       "        vertical-align: middle;\n",
       "    }\n",
       "\n",
       "    .dataframe tbody tr th {\n",
       "        vertical-align: top;\n",
       "    }\n",
       "\n",
       "    .dataframe thead th {\n",
       "        text-align: right;\n",
       "    }\n",
       "</style>\n",
       "<table border=\"1\" class=\"dataframe\">\n",
       "  <thead>\n",
       "    <tr style=\"text-align: right;\">\n",
       "      <th></th>\n",
       "      <th>KidneyDisease</th>\n",
       "      <th>Smoking</th>\n",
       "      <th>AlcoholDrinking</th>\n",
       "      <th>SkinCancer</th>\n",
       "      <th>DiffWalking</th>\n",
       "      <th>PhysicalActivity</th>\n",
       "      <th>HeartDisease</th>\n",
       "      <th>Stroke</th>\n",
       "      <th>Asthma</th>\n",
       "      <th>Sex</th>\n",
       "    </tr>\n",
       "  </thead>\n",
       "  <tbody>\n",
       "    <tr>\n",
       "      <th>0</th>\n",
       "      <td>0</td>\n",
       "      <td>1</td>\n",
       "      <td>0</td>\n",
       "      <td>1</td>\n",
       "      <td>0</td>\n",
       "      <td>1</td>\n",
       "      <td>0</td>\n",
       "      <td>0</td>\n",
       "      <td>1</td>\n",
       "      <td>0</td>\n",
       "    </tr>\n",
       "    <tr>\n",
       "      <th>1</th>\n",
       "      <td>0</td>\n",
       "      <td>0</td>\n",
       "      <td>0</td>\n",
       "      <td>0</td>\n",
       "      <td>0</td>\n",
       "      <td>1</td>\n",
       "      <td>0</td>\n",
       "      <td>1</td>\n",
       "      <td>0</td>\n",
       "      <td>0</td>\n",
       "    </tr>\n",
       "    <tr>\n",
       "      <th>2</th>\n",
       "      <td>0</td>\n",
       "      <td>1</td>\n",
       "      <td>0</td>\n",
       "      <td>0</td>\n",
       "      <td>0</td>\n",
       "      <td>1</td>\n",
       "      <td>0</td>\n",
       "      <td>0</td>\n",
       "      <td>1</td>\n",
       "      <td>1</td>\n",
       "    </tr>\n",
       "    <tr>\n",
       "      <th>3</th>\n",
       "      <td>0</td>\n",
       "      <td>0</td>\n",
       "      <td>0</td>\n",
       "      <td>1</td>\n",
       "      <td>0</td>\n",
       "      <td>0</td>\n",
       "      <td>0</td>\n",
       "      <td>0</td>\n",
       "      <td>0</td>\n",
       "      <td>0</td>\n",
       "    </tr>\n",
       "    <tr>\n",
       "      <th>4</th>\n",
       "      <td>0</td>\n",
       "      <td>0</td>\n",
       "      <td>0</td>\n",
       "      <td>0</td>\n",
       "      <td>1</td>\n",
       "      <td>1</td>\n",
       "      <td>0</td>\n",
       "      <td>0</td>\n",
       "      <td>0</td>\n",
       "      <td>0</td>\n",
       "    </tr>\n",
       "  </tbody>\n",
       "</table>\n",
       "</div>"
      ],
      "text/plain": [
       "   KidneyDisease  Smoking  AlcoholDrinking  SkinCancer  DiffWalking  \\\n",
       "0              0        1                0           1            0   \n",
       "1              0        0                0           0            0   \n",
       "2              0        1                0           0            0   \n",
       "3              0        0                0           1            0   \n",
       "4              0        0                0           0            1   \n",
       "\n",
       "   PhysicalActivity  HeartDisease  Stroke  Asthma  Sex  \n",
       "0                 1             0       0       1    0  \n",
       "1                 1             0       1       0    0  \n",
       "2                 1             0       0       1    1  \n",
       "3                 0             0       0       0    0  \n",
       "4                 1             0       0       0    0  "
      ]
     },
     "execution_count": 34,
     "metadata": {},
     "output_type": "execute_result"
    }
   ],
   "source": [
    "# cat_var_bin_encoding = list(set(unencoded_cat_var)-set([\"AgeCategory\", \"Race\"]))\n",
    "for cat_var in list(set(unencoded_cat_var)-set([\"AgeCategory\", \"Race\"])):\n",
    "    if cat_var==\"Sex\":\n",
    "        data[cat_var] = data[cat_var].replace({\"Male\" : 1, \"Female\" : 0})\n",
    "    else:\n",
    "        data[cat_var] = data[cat_var].replace({\"Yes\" : 1, \"No\" : 0})\n",
    "data[list(set(unencoded_cat_var)-set([\"AgeCategory\", \"Race\"]))].head()"
   ]
  },
  {
   "cell_type": "code",
   "execution_count": 35,
   "metadata": {
    "execution": {
     "iopub.execute_input": "2023-03-22T17:40:00.183433Z",
     "iopub.status.busy": "2023-03-22T17:40:00.182943Z",
     "iopub.status.idle": "2023-03-22T17:40:01.138580Z",
     "shell.execute_reply": "2023-03-22T17:40:01.136953Z",
     "shell.execute_reply.started": "2023-03-22T17:40:00.183395Z"
    }
   },
   "outputs": [
    {
     "data": {
      "text/html": [
       "<div>\n",
       "<style scoped>\n",
       "    .dataframe tbody tr th:only-of-type {\n",
       "        vertical-align: middle;\n",
       "    }\n",
       "\n",
       "    .dataframe tbody tr th {\n",
       "        vertical-align: top;\n",
       "    }\n",
       "\n",
       "    .dataframe thead th {\n",
       "        text-align: right;\n",
       "    }\n",
       "</style>\n",
       "<table border=\"1\" class=\"dataframe\">\n",
       "  <thead>\n",
       "    <tr style=\"text-align: right;\">\n",
       "      <th></th>\n",
       "      <th>AgeCategory</th>\n",
       "      <th>Race</th>\n",
       "    </tr>\n",
       "  </thead>\n",
       "  <tbody>\n",
       "    <tr>\n",
       "      <th>0</th>\n",
       "      <td>0</td>\n",
       "      <td>0</td>\n",
       "    </tr>\n",
       "    <tr>\n",
       "      <th>1</th>\n",
       "      <td>1</td>\n",
       "      <td>0</td>\n",
       "    </tr>\n",
       "    <tr>\n",
       "      <th>2</th>\n",
       "      <td>2</td>\n",
       "      <td>0</td>\n",
       "    </tr>\n",
       "    <tr>\n",
       "      <th>3</th>\n",
       "      <td>3</td>\n",
       "      <td>0</td>\n",
       "    </tr>\n",
       "    <tr>\n",
       "      <th>4</th>\n",
       "      <td>4</td>\n",
       "      <td>0</td>\n",
       "    </tr>\n",
       "    <tr>\n",
       "      <th>...</th>\n",
       "      <td>...</td>\n",
       "      <td>...</td>\n",
       "    </tr>\n",
       "    <tr>\n",
       "      <th>319790</th>\n",
       "      <td>6</td>\n",
       "      <td>5</td>\n",
       "    </tr>\n",
       "    <tr>\n",
       "      <th>319791</th>\n",
       "      <td>10</td>\n",
       "      <td>5</td>\n",
       "    </tr>\n",
       "    <tr>\n",
       "      <th>319792</th>\n",
       "      <td>8</td>\n",
       "      <td>5</td>\n",
       "    </tr>\n",
       "    <tr>\n",
       "      <th>319793</th>\n",
       "      <td>12</td>\n",
       "      <td>5</td>\n",
       "    </tr>\n",
       "    <tr>\n",
       "      <th>319794</th>\n",
       "      <td>1</td>\n",
       "      <td>5</td>\n",
       "    </tr>\n",
       "  </tbody>\n",
       "</table>\n",
       "<p>319795 rows × 2 columns</p>\n",
       "</div>"
      ],
      "text/plain": [
       "        AgeCategory  Race\n",
       "0                 0     0\n",
       "1                 1     0\n",
       "2                 2     0\n",
       "3                 3     0\n",
       "4                 4     0\n",
       "...             ...   ...\n",
       "319790            6     5\n",
       "319791           10     5\n",
       "319792            8     5\n",
       "319793           12     5\n",
       "319794            1     5\n",
       "\n",
       "[319795 rows x 2 columns]"
      ]
     },
     "execution_count": 35,
     "metadata": {},
     "output_type": "execute_result"
    }
   ],
   "source": [
    "for cat_var in [\"AgeCategory\", \"Race\"]:\n",
    "    data[cat_var] = data[cat_var].replace(dict([ (i, data[cat_var].unique().tolist().index(i)) for i in data[cat_var].unique() ]))\n",
    "data[[\"AgeCategory\", \"Race\"]]"
   ]
  },
  {
   "cell_type": "code",
   "execution_count": 44,
   "metadata": {
    "execution": {
     "iopub.execute_input": "2023-03-22T17:48:31.930582Z",
     "iopub.status.busy": "2023-03-22T17:48:31.930023Z",
     "iopub.status.idle": "2023-03-22T17:48:31.966672Z",
     "shell.execute_reply": "2023-03-22T17:48:31.965219Z",
     "shell.execute_reply.started": "2023-03-22T17:48:31.930542Z"
    }
   },
   "outputs": [
    {
     "data": {
      "text/html": [
       "<div>\n",
       "<style scoped>\n",
       "    .dataframe tbody tr th:only-of-type {\n",
       "        vertical-align: middle;\n",
       "    }\n",
       "\n",
       "    .dataframe tbody tr th {\n",
       "        vertical-align: top;\n",
       "    }\n",
       "\n",
       "    .dataframe thead th {\n",
       "        text-align: right;\n",
       "    }\n",
       "</style>\n",
       "<table border=\"1\" class=\"dataframe\">\n",
       "  <thead>\n",
       "    <tr style=\"text-align: right;\">\n",
       "      <th></th>\n",
       "      <th>KidneyDisease</th>\n",
       "      <th>Race</th>\n",
       "      <th>Smoking</th>\n",
       "      <th>AlcoholDrinking</th>\n",
       "      <th>SkinCancer</th>\n",
       "      <th>DiffWalking</th>\n",
       "      <th>PhysicalActivity</th>\n",
       "      <th>HeartDisease</th>\n",
       "      <th>Stroke</th>\n",
       "      <th>Asthma</th>\n",
       "      <th>Diabetic</th>\n",
       "      <th>Sex</th>\n",
       "      <th>AgeCategory</th>\n",
       "      <th>GenHealth</th>\n",
       "    </tr>\n",
       "  </thead>\n",
       "  <tbody>\n",
       "    <tr>\n",
       "      <th>0</th>\n",
       "      <td>0</td>\n",
       "      <td>0</td>\n",
       "      <td>1</td>\n",
       "      <td>0</td>\n",
       "      <td>1</td>\n",
       "      <td>0</td>\n",
       "      <td>1</td>\n",
       "      <td>0</td>\n",
       "      <td>0</td>\n",
       "      <td>1</td>\n",
       "      <td>3</td>\n",
       "      <td>0</td>\n",
       "      <td>0</td>\n",
       "      <td>3</td>\n",
       "    </tr>\n",
       "    <tr>\n",
       "      <th>1</th>\n",
       "      <td>0</td>\n",
       "      <td>0</td>\n",
       "      <td>0</td>\n",
       "      <td>0</td>\n",
       "      <td>0</td>\n",
       "      <td>0</td>\n",
       "      <td>1</td>\n",
       "      <td>0</td>\n",
       "      <td>1</td>\n",
       "      <td>0</td>\n",
       "      <td>1</td>\n",
       "      <td>0</td>\n",
       "      <td>1</td>\n",
       "      <td>3</td>\n",
       "    </tr>\n",
       "    <tr>\n",
       "      <th>2</th>\n",
       "      <td>0</td>\n",
       "      <td>0</td>\n",
       "      <td>1</td>\n",
       "      <td>0</td>\n",
       "      <td>0</td>\n",
       "      <td>0</td>\n",
       "      <td>1</td>\n",
       "      <td>0</td>\n",
       "      <td>0</td>\n",
       "      <td>1</td>\n",
       "      <td>3</td>\n",
       "      <td>1</td>\n",
       "      <td>2</td>\n",
       "      <td>1</td>\n",
       "    </tr>\n",
       "    <tr>\n",
       "      <th>3</th>\n",
       "      <td>0</td>\n",
       "      <td>0</td>\n",
       "      <td>0</td>\n",
       "      <td>0</td>\n",
       "      <td>1</td>\n",
       "      <td>0</td>\n",
       "      <td>0</td>\n",
       "      <td>0</td>\n",
       "      <td>0</td>\n",
       "      <td>0</td>\n",
       "      <td>1</td>\n",
       "      <td>0</td>\n",
       "      <td>3</td>\n",
       "      <td>2</td>\n",
       "    </tr>\n",
       "    <tr>\n",
       "      <th>4</th>\n",
       "      <td>0</td>\n",
       "      <td>0</td>\n",
       "      <td>0</td>\n",
       "      <td>0</td>\n",
       "      <td>0</td>\n",
       "      <td>1</td>\n",
       "      <td>1</td>\n",
       "      <td>0</td>\n",
       "      <td>0</td>\n",
       "      <td>0</td>\n",
       "      <td>1</td>\n",
       "      <td>0</td>\n",
       "      <td>4</td>\n",
       "      <td>3</td>\n",
       "    </tr>\n",
       "  </tbody>\n",
       "</table>\n",
       "</div>"
      ],
      "text/plain": [
       "   KidneyDisease  Race  Smoking  AlcoholDrinking  SkinCancer  DiffWalking  \\\n",
       "0              0     0        1                0           1            0   \n",
       "1              0     0        0                0           0            0   \n",
       "2              0     0        1                0           0            0   \n",
       "3              0     0        0                0           1            0   \n",
       "4              0     0        0                0           0            1   \n",
       "\n",
       "   PhysicalActivity  HeartDisease  Stroke  Asthma  Diabetic  Sex  AgeCategory  \\\n",
       "0                 1             0       0       1         3    0            0   \n",
       "1                 1             0       1       0         1    0            1   \n",
       "2                 1             0       0       1         3    1            2   \n",
       "3                 0             0       0       0         1    0            3   \n",
       "4                 1             0       0       0         1    0            4   \n",
       "\n",
       "   GenHealth  \n",
       "0          3  \n",
       "1          3  \n",
       "2          1  \n",
       "3          2  \n",
       "4          3  "
      ]
     },
     "execution_count": 44,
     "metadata": {},
     "output_type": "execute_result"
    }
   ],
   "source": [
    "encd_cat = data[categorical_variables]\n",
    "encd_cat.head()"
   ]
  },
  {
   "cell_type": "code",
   "execution_count": 45,
   "metadata": {
    "execution": {
     "iopub.execute_input": "2023-03-22T17:48:35.218526Z",
     "iopub.status.busy": "2023-03-22T17:48:35.217793Z",
     "iopub.status.idle": "2023-03-22T17:48:36.319371Z",
     "shell.execute_reply": "2023-03-22T17:48:36.317491Z",
     "shell.execute_reply.started": "2023-03-22T17:48:35.218485Z"
    }
   },
   "outputs": [],
   "source": [
    "corr_matrix_data_pack = [[data[i].corr(data[j]) if i!=j else 1 for j in categorical_variables] for i in categorical_variables]"
   ]
  },
  {
   "cell_type": "code",
   "execution_count": 46,
   "metadata": {
    "execution": {
     "iopub.execute_input": "2023-03-22T17:48:36.323557Z",
     "iopub.status.busy": "2023-03-22T17:48:36.322218Z",
     "iopub.status.idle": "2023-03-22T17:48:36.757819Z",
     "shell.execute_reply": "2023-03-22T17:48:36.756498Z",
     "shell.execute_reply.started": "2023-03-22T17:48:36.323485Z"
    }
   },
   "outputs": [
    {
     "data": {
      "text/plain": [
       "<AxesSubplot:>"
      ]
     },
     "execution_count": 46,
     "metadata": {},
     "output_type": "execute_result"
    },
    {
     "data": {
      "image/png": "[encoded data removed]",
      "text/plain": [
       "<Figure size 432x288 with 2 Axes>"
      ]
     },
     "metadata": {
      "needs_background": "light"
     },
     "output_type": "display_data"
    }
   ],
   "source": [
    "sns.heatmap(corr_matrix_data_pack, vmin=-1, vmax=1)"
   ]
  },
  {
   "cell_type": "markdown",
   "metadata": {},
   "source": [
    "Correlation matrix shows categorical parameters are bad-correlated."
   ]
  },
  {
   "cell_type": "markdown",
   "metadata": {},
   "source": [
    "# Part 3. Numerical data EDA"
   ]
  },
  {
   "cell_type": "markdown",
   "metadata": {},
   "source": [
    "**General info**"
   ]
  },
  {
   "cell_type": "code",
   "execution_count": 39,
   "metadata": {
    "execution": {
     "iopub.execute_input": "2023-03-22T17:40:02.952030Z",
     "iopub.status.busy": "2023-03-22T17:40:02.950393Z",
     "iopub.status.idle": "2023-03-22T17:40:02.960262Z",
     "shell.execute_reply": "2023-03-22T17:40:02.958590Z",
     "shell.execute_reply.started": "2023-03-22T17:40:02.951976Z"
    }
   },
   "outputs": [
    {
     "name": "stdout",
     "output_type": "stream",
     "text": [
      "['MentalHealth', 'BMI', 'SleepTime', 'PhysicalHealth']\n",
      "Numerical variables number: 4\n"
     ]
    }
   ],
   "source": [
    "numerical_variables = list( set(data.columns) - set(categorical_variables) )\n",
    "print(numerical_variables)\n",
    "print(f\"Numerical variables number: {len(numerical_variables)}\")"
   ]
  },
  {
   "cell_type": "markdown",
   "metadata": {},
   "source": [
    "**Visualization**"
   ]
  },
  {
   "cell_type": "code",
   "execution_count": 40,
   "metadata": {
    "execution": {
     "iopub.execute_input": "2023-03-22T17:40:02.962620Z",
     "iopub.status.busy": "2023-03-22T17:40:02.962094Z",
     "iopub.status.idle": "2023-03-22T17:40:09.982090Z",
     "shell.execute_reply": "2023-03-22T17:40:09.980285Z",
     "shell.execute_reply.started": "2023-03-22T17:40:02.962567Z"
    }
   },
   "outputs": [
    {
     "data": {
      "image/png": "[encoded data removed]",
      "text/plain": [
       "<Figure size 1080x648 with 4 Axes>"
      ]
     },
     "metadata": {
      "needs_background": "light"
     },
     "output_type": "display_data"
    }
   ],
   "source": [
    "fig, axes = plt.subplots(2, 2)\n",
    "fig.set_size_inches(15, 9)\n",
    "fig.tight_layout(pad=5)\n",
    "k = 0\n",
    "\n",
    "for num_var in numerical_variables:\n",
    "    k = int(numerical_variables.index(num_var)/2)\n",
    "    sns.distplot(data[num_var], ax=axes[k, numerical_variables.index(num_var)%2])\n",
    "\n",
    "plt.plot()\n",
    "plt.show()"
   ]
  },
  {
   "cell_type": "markdown",
   "metadata": {},
   "source": [
    "**Correlation analysis**"
   ]
  },
  {
   "cell_type": "code",
   "execution_count": 41,
   "metadata": {
    "execution": {
     "iopub.execute_input": "2023-03-22T17:40:09.984868Z",
     "iopub.status.busy": "2023-03-22T17:40:09.984278Z",
     "iopub.status.idle": "2023-03-22T17:40:10.076501Z",
     "shell.execute_reply": "2023-03-22T17:40:10.075021Z",
     "shell.execute_reply.started": "2023-03-22T17:40:09.984816Z"
    }
   },
   "outputs": [],
   "source": [
    "corr_matrix_data_pack = [[data[i].corr(data[j]) if i!=j else 1 for j in numerical_variables] for i in numerical_variables]"
   ]
  },
  {
   "cell_type": "code",
   "execution_count": 42,
   "metadata": {
    "execution": {
     "iopub.execute_input": "2023-03-22T17:40:10.079421Z",
     "iopub.status.busy": "2023-03-22T17:40:10.078775Z",
     "iopub.status.idle": "2023-03-22T17:40:10.387294Z",
     "shell.execute_reply": "2023-03-22T17:40:10.385664Z",
     "shell.execute_reply.started": "2023-03-22T17:40:10.079381Z"
    }
   },
   "outputs": [
    {
     "data": {
      "text/plain": [
       "<AxesSubplot:>"
      ]
     },
     "execution_count": 42,
     "metadata": {},
     "output_type": "execute_result"
    },
    {
     "data": {
      "image/png": "[encoded data removed]",
      "text/plain": [
       "<Figure size 432x288 with 2 Axes>"
      ]
     },
     "metadata": {
      "needs_background": "light"
     },
     "output_type": "display_data"
    }
   ],
   "source": [
    "sns.heatmap(corr_matrix_data_pack, vmin=-1, vmax=1)"
   ]
  },
  {
   "cell_type": "code",
   "execution_count": 43,
   "metadata": {
    "execution": {
     "iopub.execute_input": "2023-03-22T17:45:21.218430Z",
     "iopub.status.busy": "2023-03-22T17:45:21.217562Z",
     "iopub.status.idle": "2023-03-22T17:45:21.246883Z",
     "shell.execute_reply": "2023-03-22T17:45:21.245225Z",
     "shell.execute_reply.started": "2023-03-22T17:45:21.218357Z"
    }
   },
   "outputs": [
    {
     "data": {
      "text/html": [
       "<div>\n",
       "<style scoped>\n",
       "    .dataframe tbody tr th:only-of-type {\n",
       "        vertical-align: middle;\n",
       "    }\n",
       "\n",
       "    .dataframe tbody tr th {\n",
       "        vertical-align: top;\n",
       "    }\n",
       "\n",
       "    .dataframe thead th {\n",
       "        text-align: right;\n",
       "    }\n",
       "</style>\n",
       "<table border=\"1\" class=\"dataframe\">\n",
       "  <thead>\n",
       "    <tr style=\"text-align: right;\">\n",
       "      <th></th>\n",
       "      <th>MentalHealth</th>\n",
       "      <th>BMI</th>\n",
       "      <th>SleepTime</th>\n",
       "      <th>PhysicalHealth</th>\n",
       "    </tr>\n",
       "  </thead>\n",
       "  <tbody>\n",
       "    <tr>\n",
       "      <th>0</th>\n",
       "      <td>30.0</td>\n",
       "      <td>16.60</td>\n",
       "      <td>5.0</td>\n",
       "      <td>3.0</td>\n",
       "    </tr>\n",
       "    <tr>\n",
       "      <th>1</th>\n",
       "      <td>0.0</td>\n",
       "      <td>20.34</td>\n",
       "      <td>7.0</td>\n",
       "      <td>0.0</td>\n",
       "    </tr>\n",
       "    <tr>\n",
       "      <th>2</th>\n",
       "      <td>30.0</td>\n",
       "      <td>26.58</td>\n",
       "      <td>8.0</td>\n",
       "      <td>20.0</td>\n",
       "    </tr>\n",
       "    <tr>\n",
       "      <th>3</th>\n",
       "      <td>0.0</td>\n",
       "      <td>24.21</td>\n",
       "      <td>6.0</td>\n",
       "      <td>0.0</td>\n",
       "    </tr>\n",
       "    <tr>\n",
       "      <th>4</th>\n",
       "      <td>0.0</td>\n",
       "      <td>23.71</td>\n",
       "      <td>8.0</td>\n",
       "      <td>28.0</td>\n",
       "    </tr>\n",
       "    <tr>\n",
       "      <th>...</th>\n",
       "      <td>...</td>\n",
       "      <td>...</td>\n",
       "      <td>...</td>\n",
       "      <td>...</td>\n",
       "    </tr>\n",
       "    <tr>\n",
       "      <th>319790</th>\n",
       "      <td>0.0</td>\n",
       "      <td>27.41</td>\n",
       "      <td>6.0</td>\n",
       "      <td>7.0</td>\n",
       "    </tr>\n",
       "    <tr>\n",
       "      <th>319791</th>\n",
       "      <td>0.0</td>\n",
       "      <td>29.84</td>\n",
       "      <td>5.0</td>\n",
       "      <td>0.0</td>\n",
       "    </tr>\n",
       "    <tr>\n",
       "      <th>319792</th>\n",
       "      <td>0.0</td>\n",
       "      <td>24.24</td>\n",
       "      <td>6.0</td>\n",
       "      <td>0.0</td>\n",
       "    </tr>\n",
       "    <tr>\n",
       "      <th>319793</th>\n",
       "      <td>0.0</td>\n",
       "      <td>32.81</td>\n",
       "      <td>12.0</td>\n",
       "      <td>0.0</td>\n",
       "    </tr>\n",
       "    <tr>\n",
       "      <th>319794</th>\n",
       "      <td>0.0</td>\n",
       "      <td>46.56</td>\n",
       "      <td>8.0</td>\n",
       "      <td>0.0</td>\n",
       "    </tr>\n",
       "  </tbody>\n",
       "</table>\n",
       "<p>319795 rows × 4 columns</p>\n",
       "</div>"
      ],
      "text/plain": [
       "        MentalHealth    BMI  SleepTime  PhysicalHealth\n",
       "0               30.0  16.60        5.0             3.0\n",
       "1                0.0  20.34        7.0             0.0\n",
       "2               30.0  26.58        8.0            20.0\n",
       "3                0.0  24.21        6.0             0.0\n",
       "4                0.0  23.71        8.0            28.0\n",
       "...              ...    ...        ...             ...\n",
       "319790           0.0  27.41        6.0             7.0\n",
       "319791           0.0  29.84        5.0             0.0\n",
       "319792           0.0  24.24        6.0             0.0\n",
       "319793           0.0  32.81       12.0             0.0\n",
       "319794           0.0  46.56        8.0             0.0\n",
       "\n",
       "[319795 rows x 4 columns]"
      ]
     },
     "execution_count": 43,
     "metadata": {},
     "output_type": "execute_result"
    }
   ],
   "source": [
    "num = pd.DataFrame(data[numerical_variables])\n",
    "num"
   ]
  },
  {
   "cell_type": "code",
   "execution_count": 50,
   "metadata": {
    "execution": {
     "iopub.execute_input": "2023-03-22T17:54:04.769856Z",
     "iopub.status.busy": "2023-03-22T17:54:04.769310Z",
     "iopub.status.idle": "2023-03-22T17:54:04.796487Z",
     "shell.execute_reply": "2023-03-22T17:54:04.794997Z",
     "shell.execute_reply.started": "2023-03-22T17:54:04.769818Z"
    }
   },
   "outputs": [],
   "source": [
    "data1 = pd.concat([encd_cat,num], axis=1)"
   ]
  },
  {
   "cell_type": "code",
   "execution_count": 53,
   "metadata": {
    "execution": {
     "iopub.execute_input": "2023-03-22T17:56:46.846337Z",
     "iopub.status.busy": "2023-03-22T17:56:46.845818Z",
     "iopub.status.idle": "2023-03-22T17:56:46.858104Z",
     "shell.execute_reply": "2023-03-22T17:56:46.856973Z",
     "shell.execute_reply.started": "2023-03-22T17:56:46.846291Z"
    }
   },
   "outputs": [
    {
     "data": {
      "text/plain": [
       "KidneyDisease       1\n",
       "Race                1\n",
       "SleepTime           1\n",
       "BMI                 1\n",
       "MentalHealth        1\n",
       "GenHealth           1\n",
       "AgeCategory         1\n",
       "Sex                 1\n",
       "Diabetic            1\n",
       "Asthma              1\n",
       "Stroke              1\n",
       "HeartDisease        1\n",
       "PhysicalActivity    1\n",
       "DiffWalking         1\n",
       "SkinCancer          1\n",
       "AlcoholDrinking     1\n",
       "Smoking             1\n",
       "PhysicalHealth      1\n",
       "dtype: int64"
      ]
     },
     "execution_count": 53,
     "metadata": {},
     "output_type": "execute_result"
    }
   ],
   "source": [
    "data1.columns.value_counts()"
   ]
  },
  {
   "cell_type": "code",
   "execution_count": 55,
   "metadata": {
    "execution": {
     "iopub.execute_input": "2023-03-22T17:57:44.581489Z",
     "iopub.status.busy": "2023-03-22T17:57:44.580860Z",
     "iopub.status.idle": "2023-03-22T17:57:44.609103Z",
     "shell.execute_reply": "2023-03-22T17:57:44.607561Z",
     "shell.execute_reply.started": "2023-03-22T17:57:44.581445Z"
    }
   },
   "outputs": [
    {
     "data": {
      "text/html": [
       "<div>\n",
       "<style scoped>\n",
       "    .dataframe tbody tr th:only-of-type {\n",
       "        vertical-align: middle;\n",
       "    }\n",
       "\n",
       "    .dataframe tbody tr th {\n",
       "        vertical-align: top;\n",
       "    }\n",
       "\n",
       "    .dataframe thead th {\n",
       "        text-align: right;\n",
       "    }\n",
       "</style>\n",
       "<table border=\"1\" class=\"dataframe\">\n",
       "  <thead>\n",
       "    <tr style=\"text-align: right;\">\n",
       "      <th></th>\n",
       "      <th>KidneyDisease</th>\n",
       "      <th>Race</th>\n",
       "      <th>Smoking</th>\n",
       "      <th>AlcoholDrinking</th>\n",
       "      <th>SkinCancer</th>\n",
       "      <th>DiffWalking</th>\n",
       "      <th>PhysicalActivity</th>\n",
       "      <th>HeartDisease</th>\n",
       "      <th>Stroke</th>\n",
       "      <th>Asthma</th>\n",
       "      <th>Diabetic</th>\n",
       "      <th>Sex</th>\n",
       "      <th>AgeCategory</th>\n",
       "      <th>GenHealth</th>\n",
       "      <th>MentalHealth</th>\n",
       "      <th>BMI</th>\n",
       "      <th>SleepTime</th>\n",
       "      <th>PhysicalHealth</th>\n",
       "    </tr>\n",
       "  </thead>\n",
       "  <tbody>\n",
       "    <tr>\n",
       "      <th>0</th>\n",
       "      <td>0</td>\n",
       "      <td>0</td>\n",
       "      <td>1</td>\n",
       "      <td>0</td>\n",
       "      <td>1</td>\n",
       "      <td>0</td>\n",
       "      <td>1</td>\n",
       "      <td>0</td>\n",
       "      <td>0</td>\n",
       "      <td>1</td>\n",
       "      <td>3</td>\n",
       "      <td>0</td>\n",
       "      <td>0</td>\n",
       "      <td>3</td>\n",
       "      <td>30.0</td>\n",
       "      <td>16.60</td>\n",
       "      <td>5.0</td>\n",
       "      <td>3.0</td>\n",
       "    </tr>\n",
       "    <tr>\n",
       "      <th>1</th>\n",
       "      <td>0</td>\n",
       "      <td>0</td>\n",
       "      <td>0</td>\n",
       "      <td>0</td>\n",
       "      <td>0</td>\n",
       "      <td>0</td>\n",
       "      <td>1</td>\n",
       "      <td>0</td>\n",
       "      <td>1</td>\n",
       "      <td>0</td>\n",
       "      <td>1</td>\n",
       "      <td>0</td>\n",
       "      <td>1</td>\n",
       "      <td>3</td>\n",
       "      <td>0.0</td>\n",
       "      <td>20.34</td>\n",
       "      <td>7.0</td>\n",
       "      <td>0.0</td>\n",
       "    </tr>\n",
       "    <tr>\n",
       "      <th>2</th>\n",
       "      <td>0</td>\n",
       "      <td>0</td>\n",
       "      <td>1</td>\n",
       "      <td>0</td>\n",
       "      <td>0</td>\n",
       "      <td>0</td>\n",
       "      <td>1</td>\n",
       "      <td>0</td>\n",
       "      <td>0</td>\n",
       "      <td>1</td>\n",
       "      <td>3</td>\n",
       "      <td>1</td>\n",
       "      <td>2</td>\n",
       "      <td>1</td>\n",
       "      <td>30.0</td>\n",
       "      <td>26.58</td>\n",
       "      <td>8.0</td>\n",
       "      <td>20.0</td>\n",
       "    </tr>\n",
       "    <tr>\n",
       "      <th>3</th>\n",
       "      <td>0</td>\n",
       "      <td>0</td>\n",
       "      <td>0</td>\n",
       "      <td>0</td>\n",
       "      <td>1</td>\n",
       "      <td>0</td>\n",
       "      <td>0</td>\n",
       "      <td>0</td>\n",
       "      <td>0</td>\n",
       "      <td>0</td>\n",
       "      <td>1</td>\n",
       "      <td>0</td>\n",
       "      <td>3</td>\n",
       "      <td>2</td>\n",
       "      <td>0.0</td>\n",
       "      <td>24.21</td>\n",
       "      <td>6.0</td>\n",
       "      <td>0.0</td>\n",
       "    </tr>\n",
       "    <tr>\n",
       "      <th>4</th>\n",
       "      <td>0</td>\n",
       "      <td>0</td>\n",
       "      <td>0</td>\n",
       "      <td>0</td>\n",
       "      <td>0</td>\n",
       "      <td>1</td>\n",
       "      <td>1</td>\n",
       "      <td>0</td>\n",
       "      <td>0</td>\n",
       "      <td>0</td>\n",
       "      <td>1</td>\n",
       "      <td>0</td>\n",
       "      <td>4</td>\n",
       "      <td>3</td>\n",
       "      <td>0.0</td>\n",
       "      <td>23.71</td>\n",
       "      <td>8.0</td>\n",
       "      <td>28.0</td>\n",
       "    </tr>\n",
       "    <tr>\n",
       "      <th>...</th>\n",
       "      <td>...</td>\n",
       "      <td>...</td>\n",
       "      <td>...</td>\n",
       "      <td>...</td>\n",
       "      <td>...</td>\n",
       "      <td>...</td>\n",
       "      <td>...</td>\n",
       "      <td>...</td>\n",
       "      <td>...</td>\n",
       "      <td>...</td>\n",
       "      <td>...</td>\n",
       "      <td>...</td>\n",
       "      <td>...</td>\n",
       "      <td>...</td>\n",
       "      <td>...</td>\n",
       "      <td>...</td>\n",
       "      <td>...</td>\n",
       "      <td>...</td>\n",
       "    </tr>\n",
       "    <tr>\n",
       "      <th>319790</th>\n",
       "      <td>0</td>\n",
       "      <td>5</td>\n",
       "      <td>1</td>\n",
       "      <td>0</td>\n",
       "      <td>0</td>\n",
       "      <td>1</td>\n",
       "      <td>0</td>\n",
       "      <td>1</td>\n",
       "      <td>0</td>\n",
       "      <td>1</td>\n",
       "      <td>3</td>\n",
       "      <td>1</td>\n",
       "      <td>6</td>\n",
       "      <td>1</td>\n",
       "      <td>0.0</td>\n",
       "      <td>27.41</td>\n",
       "      <td>6.0</td>\n",
       "      <td>7.0</td>\n",
       "    </tr>\n",
       "    <tr>\n",
       "      <th>319791</th>\n",
       "      <td>0</td>\n",
       "      <td>5</td>\n",
       "      <td>1</td>\n",
       "      <td>0</td>\n",
       "      <td>0</td>\n",
       "      <td>0</td>\n",
       "      <td>1</td>\n",
       "      <td>0</td>\n",
       "      <td>0</td>\n",
       "      <td>1</td>\n",
       "      <td>1</td>\n",
       "      <td>1</td>\n",
       "      <td>10</td>\n",
       "      <td>3</td>\n",
       "      <td>0.0</td>\n",
       "      <td>29.84</td>\n",
       "      <td>5.0</td>\n",
       "      <td>0.0</td>\n",
       "    </tr>\n",
       "    <tr>\n",
       "      <th>319792</th>\n",
       "      <td>0</td>\n",
       "      <td>5</td>\n",
       "      <td>0</td>\n",
       "      <td>0</td>\n",
       "      <td>0</td>\n",
       "      <td>0</td>\n",
       "      <td>1</td>\n",
       "      <td>0</td>\n",
       "      <td>0</td>\n",
       "      <td>0</td>\n",
       "      <td>1</td>\n",
       "      <td>0</td>\n",
       "      <td>8</td>\n",
       "      <td>2</td>\n",
       "      <td>0.0</td>\n",
       "      <td>24.24</td>\n",
       "      <td>6.0</td>\n",
       "      <td>0.0</td>\n",
       "    </tr>\n",
       "    <tr>\n",
       "      <th>319793</th>\n",
       "      <td>0</td>\n",
       "      <td>5</td>\n",
       "      <td>0</td>\n",
       "      <td>0</td>\n",
       "      <td>0</td>\n",
       "      <td>0</td>\n",
       "      <td>0</td>\n",
       "      <td>0</td>\n",
       "      <td>0</td>\n",
       "      <td>0</td>\n",
       "      <td>1</td>\n",
       "      <td>0</td>\n",
       "      <td>12</td>\n",
       "      <td>2</td>\n",
       "      <td>0.0</td>\n",
       "      <td>32.81</td>\n",
       "      <td>12.0</td>\n",
       "      <td>0.0</td>\n",
       "    </tr>\n",
       "    <tr>\n",
       "      <th>319794</th>\n",
       "      <td>0</td>\n",
       "      <td>5</td>\n",
       "      <td>0</td>\n",
       "      <td>0</td>\n",
       "      <td>0</td>\n",
       "      <td>0</td>\n",
       "      <td>1</td>\n",
       "      <td>0</td>\n",
       "      <td>0</td>\n",
       "      <td>0</td>\n",
       "      <td>1</td>\n",
       "      <td>0</td>\n",
       "      <td>1</td>\n",
       "      <td>2</td>\n",
       "      <td>0.0</td>\n",
       "      <td>46.56</td>\n",
       "      <td>8.0</td>\n",
       "      <td>0.0</td>\n",
       "    </tr>\n",
       "  </tbody>\n",
       "</table>\n",
       "<p>319795 rows × 18 columns</p>\n",
       "</div>"
      ],
      "text/plain": [
       "        KidneyDisease  Race  Smoking  AlcoholDrinking  SkinCancer  \\\n",
       "0                   0     0        1                0           1   \n",
       "1                   0     0        0                0           0   \n",
       "2                   0     0        1                0           0   \n",
       "3                   0     0        0                0           1   \n",
       "4                   0     0        0                0           0   \n",
       "...               ...   ...      ...              ...         ...   \n",
       "319790              0     5        1                0           0   \n",
       "319791              0     5        1                0           0   \n",
       "319792              0     5        0                0           0   \n",
       "319793              0     5        0                0           0   \n",
       "319794              0     5        0                0           0   \n",
       "\n",
       "        DiffWalking  PhysicalActivity  HeartDisease  Stroke  Asthma  Diabetic  \\\n",
       "0                 0                 1             0       0       1         3   \n",
       "1                 0                 1             0       1       0         1   \n",
       "2                 0                 1             0       0       1         3   \n",
       "3                 0                 0             0       0       0         1   \n",
       "4                 1                 1             0       0       0         1   \n",
       "...             ...               ...           ...     ...     ...       ...   \n",
       "319790            1                 0             1       0       1         3   \n",
       "319791            0                 1             0       0       1         1   \n",
       "319792            0                 1             0       0       0         1   \n",
       "319793            0                 0             0       0       0         1   \n",
       "319794            0                 1             0       0       0         1   \n",
       "\n",
       "        Sex  AgeCategory  GenHealth  MentalHealth    BMI  SleepTime  \\\n",
       "0         0            0          3          30.0  16.60        5.0   \n",
       "1         0            1          3           0.0  20.34        7.0   \n",
       "2         1            2          1          30.0  26.58        8.0   \n",
       "3         0            3          2           0.0  24.21        6.0   \n",
       "4         0            4          3           0.0  23.71        8.0   \n",
       "...     ...          ...        ...           ...    ...        ...   \n",
       "319790    1            6          1           0.0  27.41        6.0   \n",
       "319791    1           10          3           0.0  29.84        5.0   \n",
       "319792    0            8          2           0.0  24.24        6.0   \n",
       "319793    0           12          2           0.0  32.81       12.0   \n",
       "319794    0            1          2           0.0  46.56        8.0   \n",
       "\n",
       "        PhysicalHealth  \n",
       "0                  3.0  \n",
       "1                  0.0  \n",
       "2                 20.0  \n",
       "3                  0.0  \n",
       "4                 28.0  \n",
       "...                ...  \n",
       "319790             7.0  \n",
       "319791             0.0  \n",
       "319792             0.0  \n",
       "319793             0.0  \n",
       "319794             0.0  \n",
       "\n",
       "[319795 rows x 18 columns]"
      ]
     },
     "execution_count": 55,
     "metadata": {},
     "output_type": "execute_result"
    }
   ],
   "source": [
    "data1"
   ]
  },
  {
   "cell_type": "code",
   "execution_count": 56,
   "metadata": {
    "execution": {
     "iopub.execute_input": "2023-03-22T17:58:14.232298Z",
     "iopub.status.busy": "2023-03-22T17:58:14.231910Z",
     "iopub.status.idle": "2023-03-22T17:58:14.251834Z",
     "shell.execute_reply": "2023-03-22T17:58:14.250363Z",
     "shell.execute_reply.started": "2023-03-22T17:58:14.232266Z"
    }
   },
   "outputs": [
    {
     "data": {
      "text/plain": [
       "KidneyDisease       0\n",
       "Race                0\n",
       "Smoking             0\n",
       "AlcoholDrinking     0\n",
       "SkinCancer          0\n",
       "DiffWalking         0\n",
       "PhysicalActivity    0\n",
       "HeartDisease        0\n",
       "Stroke              0\n",
       "Asthma              0\n",
       "Diabetic            0\n",
       "Sex                 0\n",
       "AgeCategory         0\n",
       "GenHealth           0\n",
       "MentalHealth        0\n",
       "BMI                 0\n",
       "SleepTime           0\n",
       "PhysicalHealth      0\n",
       "dtype: int64"
      ]
     },
     "execution_count": 56,
     "metadata": {},
     "output_type": "execute_result"
    }
   ],
   "source": [
    "data1.isna().sum()"
   ]
  },
  {
   "cell_type": "markdown",
   "metadata": {},
   "source": [
    "# Extracting X and y"
   ]
  },
  {
   "cell_type": "code",
   "execution_count": 57,
   "metadata": {
    "execution": {
     "iopub.execute_input": "2023-03-22T17:59:19.382570Z",
     "iopub.status.busy": "2023-03-22T17:59:19.382070Z",
     "iopub.status.idle": "2023-03-22T17:59:19.404596Z",
     "shell.execute_reply": "2023-03-22T17:59:19.402690Z",
     "shell.execute_reply.started": "2023-03-22T17:59:19.382533Z"
    }
   },
   "outputs": [],
   "source": [
    "X = data1.drop(['HeartDisease'], 1)\n",
    "y = data1.HeartDisease"
   ]
  },
  {
   "cell_type": "markdown",
   "metadata": {},
   "source": [
    "# Splitting into train and test"
   ]
  },
  {
   "cell_type": "code",
   "execution_count": 58,
   "metadata": {
    "execution": {
     "iopub.execute_input": "2023-03-22T18:09:47.830850Z",
     "iopub.status.busy": "2023-03-22T18:09:47.830305Z",
     "iopub.status.idle": "2023-03-22T18:09:47.981074Z",
     "shell.execute_reply": "2023-03-22T18:09:47.979401Z",
     "shell.execute_reply.started": "2023-03-22T18:09:47.830813Z"
    }
   },
   "outputs": [],
   "source": [
    "X_train, X_test, y_train, y_test = train_test_split(X, y, test_size = 1/3, random_state = 0)"
   ]
  },
  {
   "cell_type": "markdown",
   "metadata": {},
   "source": [
    "# Building Models"
   ]
  },
  {
   "cell_type": "markdown",
   "metadata": {},
   "source": [
    "## KNN MODEL"
   ]
  },
  {
   "cell_type": "code",
   "execution_count": 62,
   "metadata": {
    "execution": {
     "iopub.execute_input": "2023-03-22T18:18:01.546028Z",
     "iopub.status.busy": "2023-03-22T18:18:01.545596Z",
     "iopub.status.idle": "2023-03-22T18:26:46.589087Z",
     "shell.execute_reply": "2023-03-22T18:26:46.587618Z",
     "shell.execute_reply.started": "2023-03-22T18:18:01.545993Z"
    }
   },
   "outputs": [
    {
     "name": "stdout",
     "output_type": "stream",
     "text": [
      "Time consumed for training: 0.043 seconds\n",
      "Time consumed for prediction: 524.99330 seconds\n"
     ]
    }
   ],
   "source": [
    "knn = KNeighborsClassifier(n_neighbors=6)\n",
    "training_start = time.perf_counter()\n",
    "knn.fit(X_train, y_train)\n",
    "training_end = time.perf_counter()\n",
    "prediction_start = time.perf_counter()\n",
    "knn_ypred = knn.predict(X_test)\n",
    "prediction_end = time.perf_counter()\n",
    "knn_train_time = training_end-training_start\n",
    "knn_prediction_time = prediction_end-prediction_start\n",
    "print(\"Time consumed for training: %4.3f seconds\" % (knn_train_time))\n",
    "print(\"Time consumed for prediction: %6.5f seconds\" % (knn_prediction_time))"
   ]
  },
  {
   "cell_type": "code",
   "execution_count": 63,
   "metadata": {
    "execution": {
     "iopub.execute_input": "2023-03-22T18:26:46.592618Z",
     "iopub.status.busy": "2023-03-22T18:26:46.592087Z",
     "iopub.status.idle": "2023-03-22T18:26:46.614904Z",
     "shell.execute_reply": "2023-03-22T18:26:46.613604Z",
     "shell.execute_reply.started": "2023-03-22T18:26:46.592570Z"
    }
   },
   "outputs": [
    {
     "data": {
      "text/plain": [
       "0.9125038696423043"
      ]
     },
     "execution_count": 63,
     "metadata": {},
     "output_type": "execute_result"
    }
   ],
   "source": [
    "acc_knn = accuracy_score(y_test,knn_ypred)\n",
    "acc_knn"
   ]
  },
  {
   "cell_type": "code",
   "execution_count": 64,
   "metadata": {
    "execution": {
     "iopub.execute_input": "2023-03-22T18:26:46.617905Z",
     "iopub.status.busy": "2023-03-22T18:26:46.616318Z",
     "iopub.status.idle": "2023-03-22T18:26:46.671994Z",
     "shell.execute_reply": "2023-03-22T18:26:46.670310Z",
     "shell.execute_reply.started": "2023-03-22T18:26:46.617846Z"
    }
   },
   "outputs": [
    {
     "data": {
      "text/plain": [
       "0.061197785606441873"
      ]
     },
     "execution_count": 64,
     "metadata": {},
     "output_type": "execute_result"
    }
   ],
   "source": [
    "f1_score(y_test,knn_ypred)"
   ]
  },
  {
   "cell_type": "code",
   "execution_count": 65,
   "metadata": {
    "execution": {
     "iopub.execute_input": "2023-03-22T18:26:46.675848Z",
     "iopub.status.busy": "2023-03-22T18:26:46.675320Z",
     "iopub.status.idle": "2023-03-22T18:26:46.875160Z",
     "shell.execute_reply": "2023-03-22T18:26:46.873763Z",
     "shell.execute_reply.started": "2023-03-22T18:26:46.675807Z"
    }
   },
   "outputs": [
    {
     "name": "stdout",
     "output_type": "stream",
     "text": [
      "              precision    recall  f1-score   support\n",
      "\n",
      "           0       0.92      0.99      0.95     97508\n",
      "           1       0.36      0.03      0.06      9091\n",
      "\n",
      "    accuracy                           0.91    106599\n",
      "   macro avg       0.64      0.51      0.51    106599\n",
      "weighted avg       0.87      0.91      0.88    106599\n",
      "\n"
     ]
    }
   ],
   "source": [
    "print(classification_report(y_test,knn_ypred))"
   ]
  },
  {
   "cell_type": "code",
   "execution_count": 66,
   "metadata": {
    "execution": {
     "iopub.execute_input": "2023-03-22T18:26:46.877465Z",
     "iopub.status.busy": "2023-03-22T18:26:46.877045Z",
     "iopub.status.idle": "2023-03-22T18:26:47.046875Z",
     "shell.execute_reply": "2023-03-22T18:26:47.044857Z",
     "shell.execute_reply.started": "2023-03-22T18:26:46.877430Z"
    }
   },
   "outputs": [
    {
     "data": {
      "image/png": "[encoded data removed]",
      "text/plain": [
       "<Figure size 432x288 with 1 Axes>"
      ]
     },
     "metadata": {
      "needs_background": "light"
     },
     "output_type": "display_data"
    }
   ],
   "source": [
    "conf_mat = confusion_matrix(y_test, knn_ypred)\n",
    "\n",
    "fig, ax = plot_confusion_matrix(conf_mat=conf_mat,\n",
    "                                show_normed=True,\n",
    "                                show_absolute=False,\n",
    "                                figsize=(6, 4))\n",
    "fig.show()"
   ]
  },
  {
   "cell_type": "markdown",
   "metadata": {},
   "source": [
    "## LOGISTIC REGRESSION"
   ]
  },
  {
   "cell_type": "code",
   "execution_count": 67,
   "metadata": {
    "execution": {
     "iopub.execute_input": "2023-03-22T18:26:47.050606Z",
     "iopub.status.busy": "2023-03-22T18:26:47.049494Z",
     "iopub.status.idle": "2023-03-22T18:26:57.962832Z",
     "shell.execute_reply": "2023-03-22T18:26:57.961138Z",
     "shell.execute_reply.started": "2023-03-22T18:26:47.050531Z"
    }
   },
   "outputs": [
    {
     "name": "stdout",
     "output_type": "stream",
     "text": [
      "Time consumed for training: 10.882 seconds\n",
      "Time consumed for prediction: 0.01723 seconds\n"
     ]
    }
   ],
   "source": [
    "lor = LogisticRegression(max_iter=1000)\n",
    "training_start = time.perf_counter()\n",
    "lor.fit(X_train, y_train)\n",
    "training_end = time.perf_counter()\n",
    "prediction_start = time.perf_counter()\n",
    "lor_ypred = lor.predict(X_test)\n",
    "prediction_end = time.perf_counter()\n",
    "lor_train_time = training_end-training_start\n",
    "lor_prediction_time = prediction_end-prediction_start\n",
    "print(\"Time consumed for training: %4.3f seconds\" % (lor_train_time))\n",
    "print(\"Time consumed for prediction: %6.5f seconds\" % (lor_prediction_time))"
   ]
  },
  {
   "cell_type": "code",
   "execution_count": 68,
   "metadata": {
    "execution": {
     "iopub.execute_input": "2023-03-22T18:26:57.966072Z",
     "iopub.status.busy": "2023-03-22T18:26:57.965104Z",
     "iopub.status.idle": "2023-03-22T18:26:58.000715Z",
     "shell.execute_reply": "2023-03-22T18:26:57.998975Z",
     "shell.execute_reply.started": "2023-03-22T18:26:57.965999Z"
    }
   },
   "outputs": [
    {
     "data": {
      "text/plain": [
       "0.9158341072617942"
      ]
     },
     "execution_count": 68,
     "metadata": {},
     "output_type": "execute_result"
    }
   ],
   "source": [
    "acc_lor = accuracy_score(y_test,lor_ypred)\n",
    "acc_lor"
   ]
  },
  {
   "cell_type": "code",
   "execution_count": 69,
   "metadata": {
    "execution": {
     "iopub.execute_input": "2023-03-22T18:26:58.007295Z",
     "iopub.status.busy": "2023-03-22T18:26:58.005270Z",
     "iopub.status.idle": "2023-03-22T18:26:58.095976Z",
     "shell.execute_reply": "2023-03-22T18:26:58.094915Z",
     "shell.execute_reply.started": "2023-03-22T18:26:58.007173Z"
    }
   },
   "outputs": [
    {
     "data": {
      "text/plain": [
       "0.16771799628942485"
      ]
     },
     "execution_count": 69,
     "metadata": {},
     "output_type": "execute_result"
    }
   ],
   "source": [
    "f1_score(y_test,lor_ypred)"
   ]
  },
  {
   "cell_type": "code",
   "execution_count": 70,
   "metadata": {
    "execution": {
     "iopub.execute_input": "2023-03-22T18:26:58.098967Z",
     "iopub.status.busy": "2023-03-22T18:26:58.097648Z",
     "iopub.status.idle": "2023-03-22T18:26:58.286091Z",
     "shell.execute_reply": "2023-03-22T18:26:58.284359Z",
     "shell.execute_reply.started": "2023-03-22T18:26:58.098912Z"
    }
   },
   "outputs": [
    {
     "name": "stdout",
     "output_type": "stream",
     "text": [
      "              precision    recall  f1-score   support\n",
      "\n",
      "           0       0.92      0.99      0.96     97508\n",
      "           1       0.54      0.10      0.17      9091\n",
      "\n",
      "    accuracy                           0.92    106599\n",
      "   macro avg       0.73      0.55      0.56    106599\n",
      "weighted avg       0.89      0.92      0.89    106599\n",
      "\n"
     ]
    }
   ],
   "source": [
    "print(classification_report(y_test,lor_ypred))"
   ]
  },
  {
   "cell_type": "code",
   "execution_count": 71,
   "metadata": {
    "execution": {
     "iopub.execute_input": "2023-03-22T18:26:58.291802Z",
     "iopub.status.busy": "2023-03-22T18:26:58.291410Z",
     "iopub.status.idle": "2023-03-22T18:26:58.431728Z",
     "shell.execute_reply": "2023-03-22T18:26:58.429398Z",
     "shell.execute_reply.started": "2023-03-22T18:26:58.291769Z"
    }
   },
   "outputs": [
    {
     "data": {
      "image/png": "[encoded data removed]",
      "text/plain": [
       "<Figure size 432x288 with 1 Axes>"
      ]
     },
     "metadata": {
      "needs_background": "light"
     },
     "output_type": "display_data"
    }
   ],
   "source": [
    "conf_mat = confusion_matrix(y_test, lor_ypred)\n",
    "\n",
    "fig, ax = plot_confusion_matrix(conf_mat=conf_mat,\n",
    "                                show_normed=True,\n",
    "                                show_absolute=False,\n",
    "                                figsize=(6, 4))\n",
    "fig.show()"
   ]
  },
  {
   "cell_type": "markdown",
   "metadata": {},
   "source": [
    "## GAUSSIAN-NB MODEL"
   ]
  },
  {
   "cell_type": "code",
   "execution_count": 72,
   "metadata": {
    "execution": {
     "iopub.execute_input": "2023-03-22T18:26:58.437618Z",
     "iopub.status.busy": "2023-03-22T18:26:58.435995Z",
     "iopub.status.idle": "2023-03-22T18:26:58.636433Z",
     "shell.execute_reply": "2023-03-22T18:26:58.634893Z",
     "shell.execute_reply.started": "2023-03-22T18:26:58.437539Z"
    }
   },
   "outputs": [
    {
     "name": "stdout",
     "output_type": "stream",
     "text": [
      "Time consumed for training: 0.140 seconds\n",
      "Time consumed for prediction: 0.04533 seconds\n"
     ]
    }
   ],
   "source": [
    "gnb = GaussianNB()\n",
    "training_start = time.perf_counter()\n",
    "gnb.fit(X_train, y_train)\n",
    "training_end = time.perf_counter()\n",
    "prediction_start = time.perf_counter()\n",
    "gnb_ypred = gnb.predict(X_test)\n",
    "prediction_end = time.perf_counter()\n",
    "gnb_train_time = training_end-training_start\n",
    "gnb_prediction_time = prediction_end-prediction_start\n",
    "print(\"Time consumed for training: %4.3f seconds\" % (gnb_train_time))\n",
    "print(\"Time consumed for prediction: %6.5f seconds\" % (gnb_prediction_time))"
   ]
  },
  {
   "cell_type": "code",
   "execution_count": 73,
   "metadata": {
    "execution": {
     "iopub.execute_input": "2023-03-22T18:26:58.638517Z",
     "iopub.status.busy": "2023-03-22T18:26:58.638053Z",
     "iopub.status.idle": "2023-03-22T18:26:58.661002Z",
     "shell.execute_reply": "2023-03-22T18:26:58.659449Z",
     "shell.execute_reply.started": "2023-03-22T18:26:58.638468Z"
    }
   },
   "outputs": [
    {
     "data": {
      "text/plain": [
       "0.8428409272132009"
      ]
     },
     "execution_count": 73,
     "metadata": {},
     "output_type": "execute_result"
    }
   ],
   "source": [
    "acc_gnb = accuracy_score(y_test,gnb_ypred)\n",
    "acc_gnb"
   ]
  },
  {
   "cell_type": "code",
   "execution_count": 74,
   "metadata": {
    "execution": {
     "iopub.execute_input": "2023-03-22T18:26:58.663738Z",
     "iopub.status.busy": "2023-03-22T18:26:58.663219Z",
     "iopub.status.idle": "2023-03-22T18:26:58.721780Z",
     "shell.execute_reply": "2023-03-22T18:26:58.720550Z",
     "shell.execute_reply.started": "2023-03-22T18:26:58.663693Z"
    }
   },
   "outputs": [
    {
     "data": {
      "text/plain": [
       "0.33962710394576057"
      ]
     },
     "execution_count": 74,
     "metadata": {},
     "output_type": "execute_result"
    }
   ],
   "source": [
    "f1_score(y_test,gnb_ypred)"
   ]
  },
  {
   "cell_type": "code",
   "execution_count": 75,
   "metadata": {
    "execution": {
     "iopub.execute_input": "2023-03-22T18:26:58.725591Z",
     "iopub.status.busy": "2023-03-22T18:26:58.725014Z",
     "iopub.status.idle": "2023-03-22T18:26:58.927001Z",
     "shell.execute_reply": "2023-03-22T18:26:58.925360Z",
     "shell.execute_reply.started": "2023-03-22T18:26:58.725542Z"
    }
   },
   "outputs": [
    {
     "name": "stdout",
     "output_type": "stream",
     "text": [
      "              precision    recall  f1-score   support\n",
      "\n",
      "           0       0.95      0.88      0.91     97508\n",
      "           1       0.26      0.47      0.34      9091\n",
      "\n",
      "    accuracy                           0.84    106599\n",
      "   macro avg       0.61      0.68      0.63    106599\n",
      "weighted avg       0.89      0.84      0.86    106599\n",
      "\n"
     ]
    }
   ],
   "source": [
    "print(classification_report(y_test,gnb_ypred))"
   ]
  },
  {
   "cell_type": "code",
   "execution_count": 76,
   "metadata": {
    "execution": {
     "iopub.execute_input": "2023-03-22T18:26:58.929340Z",
     "iopub.status.busy": "2023-03-22T18:26:58.928881Z",
     "iopub.status.idle": "2023-03-22T18:26:59.121039Z",
     "shell.execute_reply": "2023-03-22T18:26:59.119086Z",
     "shell.execute_reply.started": "2023-03-22T18:26:58.929297Z"
    }
   },
   "outputs": [
    {
     "data": {
      "image/png": "[encoded data removed]",
      "text/plain": [
       "<Figure size 432x288 with 1 Axes>"
      ]
     },
     "metadata": {
      "needs_background": "light"
     },
     "output_type": "display_data"
    }
   ],
   "source": [
    "conf_mat = confusion_matrix(y_test, gnb_ypred)\n",
    "\n",
    "fig, ax = plot_confusion_matrix(conf_mat=conf_mat,\n",
    "                                show_normed=True,\n",
    "                                show_absolute=False,\n",
    "                                figsize=(6, 4))\n",
    "fig.show()"
   ]
  },
  {
   "cell_type": "markdown",
   "metadata": {},
   "source": [
    "## XG-Boost MODEL"
   ]
  },
  {
   "cell_type": "code",
   "execution_count": 77,
   "metadata": {
    "execution": {
     "iopub.execute_input": "2023-03-22T18:26:59.125832Z",
     "iopub.status.busy": "2023-03-22T18:26:59.123499Z",
     "iopub.status.idle": "2023-03-22T18:27:14.347330Z",
     "shell.execute_reply": "2023-03-22T18:27:14.345266Z",
     "shell.execute_reply.started": "2023-03-22T18:26:59.125730Z"
    }
   },
   "outputs": [
    {
     "name": "stdout",
     "output_type": "stream",
     "text": [
      "Time consumed for training: 15.078\n",
      "Time consumed for prediction: 0.12588 seconds\n"
     ]
    }
   ],
   "source": [
    "xgb = XGBClassifier(learning_rate=0.1, n_estimators=100,random_state=5)\n",
    "training_start = time.perf_counter()\n",
    "xgb.fit(X_train, y_train)\n",
    "training_end = time.perf_counter()\n",
    "prediction_start = time.perf_counter()\n",
    "xgb_ypred = xgb.predict(X_test)\n",
    "prediction_end = time.perf_counter()\n",
    "xgb_train_time = training_end-training_start\n",
    "xgb_prediction_time = prediction_end-prediction_start\n",
    "print(\"Time consumed for training: %4.3f\" % (xgb_train_time))\n",
    "print(\"Time consumed for prediction: %6.5f seconds\" % (xgb_prediction_time))"
   ]
  },
  {
   "cell_type": "code",
   "execution_count": 78,
   "metadata": {
    "execution": {
     "iopub.execute_input": "2023-03-22T18:27:14.355084Z",
     "iopub.status.busy": "2023-03-22T18:27:14.354617Z",
     "iopub.status.idle": "2023-03-22T18:27:14.377933Z",
     "shell.execute_reply": "2023-03-22T18:27:14.376162Z",
     "shell.execute_reply.started": "2023-03-22T18:27:14.355049Z"
    }
   },
   "outputs": [
    {
     "data": {
      "text/plain": [
       "0.9168097261700391"
      ]
     },
     "execution_count": 78,
     "metadata": {},
     "output_type": "execute_result"
    }
   ],
   "source": [
    "acc_xgb = accuracy_score(y_test,xgb_ypred)\n",
    "acc_xgb"
   ]
  },
  {
   "cell_type": "code",
   "execution_count": 79,
   "metadata": {
    "execution": {
     "iopub.execute_input": "2023-03-22T18:27:14.380588Z",
     "iopub.status.busy": "2023-03-22T18:27:14.379886Z",
     "iopub.status.idle": "2023-03-22T18:27:14.437223Z",
     "shell.execute_reply": "2023-03-22T18:27:14.435462Z",
     "shell.execute_reply.started": "2023-03-22T18:27:14.380481Z"
    }
   },
   "outputs": [
    {
     "data": {
      "text/plain": [
       "0.15446224256292906"
      ]
     },
     "execution_count": 79,
     "metadata": {},
     "output_type": "execute_result"
    }
   ],
   "source": [
    "f1_score(y_test,xgb_ypred)"
   ]
  },
  {
   "cell_type": "code",
   "execution_count": 80,
   "metadata": {
    "execution": {
     "iopub.execute_input": "2023-03-22T18:27:14.439936Z",
     "iopub.status.busy": "2023-03-22T18:27:14.439471Z",
     "iopub.status.idle": "2023-03-22T18:27:14.630659Z",
     "shell.execute_reply": "2023-03-22T18:27:14.629649Z",
     "shell.execute_reply.started": "2023-03-22T18:27:14.439899Z"
    }
   },
   "outputs": [
    {
     "name": "stdout",
     "output_type": "stream",
     "text": [
      "              precision    recall  f1-score   support\n",
      "\n",
      "           0       0.92      0.99      0.96     97508\n",
      "           1       0.58      0.09      0.15      9091\n",
      "\n",
      "    accuracy                           0.92    106599\n",
      "   macro avg       0.75      0.54      0.56    106599\n",
      "weighted avg       0.89      0.92      0.89    106599\n",
      "\n"
     ]
    }
   ],
   "source": [
    "print(classification_report(y_test,xgb_ypred))"
   ]
  },
  {
   "cell_type": "code",
   "execution_count": 81,
   "metadata": {
    "execution": {
     "iopub.execute_input": "2023-03-22T18:27:14.633046Z",
     "iopub.status.busy": "2023-03-22T18:27:14.632677Z",
     "iopub.status.idle": "2023-03-22T18:27:14.830287Z",
     "shell.execute_reply": "2023-03-22T18:27:14.828197Z",
     "shell.execute_reply.started": "2023-03-22T18:27:14.633014Z"
    }
   },
   "outputs": [
    {
     "data": {
      "image/png": "[encoded data removed]",
      "text/plain": [
       "<Figure size 432x288 with 1 Axes>"
      ]
     },
     "metadata": {
      "needs_background": "light"
     },
     "output_type": "display_data"
    }
   ],
   "source": [
    "conf_mat = confusion_matrix(y_test, xgb_ypred)\n",
    "\n",
    "fig, ax = plot_confusion_matrix(conf_mat=conf_mat,\n",
    "                                show_normed=True,\n",
    "                                show_absolute=False,\n",
    "                                figsize=(6, 4))\n",
    "fig.show()"
   ]
  },
  {
   "cell_type": "markdown",
   "metadata": {},
   "source": [
    "## RANDOM FOREST MODEL"
   ]
  },
  {
   "cell_type": "code",
   "execution_count": 82,
   "metadata": {
    "execution": {
     "iopub.execute_input": "2023-03-22T18:27:14.839741Z",
     "iopub.status.busy": "2023-03-22T18:27:14.838895Z",
     "iopub.status.idle": "2023-03-22T18:27:28.493339Z",
     "shell.execute_reply": "2023-03-22T18:27:28.491497Z",
     "shell.execute_reply.started": "2023-03-22T18:27:14.839671Z"
    }
   },
   "outputs": [
    {
     "name": "stdout",
     "output_type": "stream",
     "text": [
      "Time consumed for training: 12.936 seconds\n",
      "Time consumed for prediction: 0.70163 seconds\n"
     ]
    }
   ],
   "source": [
    "rfc = RandomForestClassifier(n_estimators=50,max_depth=10,random_state=100,criterion='gini')\n",
    "training_start = time.perf_counter()\n",
    "rfc.fit(X_train, y_train)\n",
    "training_end = time.perf_counter()\n",
    "prediction_start = time.perf_counter()\n",
    "rfc_ypred = rfc.predict(X_test)\n",
    "prediction_end = time.perf_counter()\n",
    "rfc_train_time = training_end-training_start\n",
    "rfc_prediction_time = prediction_end-prediction_start\n",
    "print(\"Time consumed for training: %4.3f seconds\" % (rfc_train_time))\n",
    "print(\"Time consumed for prediction: %6.5f seconds\" % (rfc_prediction_time))"
   ]
  },
  {
   "cell_type": "code",
   "execution_count": 83,
   "metadata": {
    "execution": {
     "iopub.execute_input": "2023-03-22T18:27:28.495839Z",
     "iopub.status.busy": "2023-03-22T18:27:28.495271Z",
     "iopub.status.idle": "2023-03-22T18:27:28.514918Z",
     "shell.execute_reply": "2023-03-22T18:27:28.513688Z",
     "shell.execute_reply.started": "2023-03-22T18:27:28.495791Z"
    }
   },
   "outputs": [
    {
     "data": {
      "text/plain": [
       "0.9168097261700391"
      ]
     },
     "execution_count": 83,
     "metadata": {},
     "output_type": "execute_result"
    }
   ],
   "source": [
    "acc_rfc = accuracy_score(y_test,xgb_ypred)\n",
    "acc_rfc"
   ]
  },
  {
   "cell_type": "code",
   "execution_count": 84,
   "metadata": {
    "execution": {
     "iopub.execute_input": "2023-03-22T18:27:28.517540Z",
     "iopub.status.busy": "2023-03-22T18:27:28.516303Z",
     "iopub.status.idle": "2023-03-22T18:27:28.568439Z",
     "shell.execute_reply": "2023-03-22T18:27:28.567001Z",
     "shell.execute_reply.started": "2023-03-22T18:27:28.517488Z"
    }
   },
   "outputs": [
    {
     "data": {
      "text/plain": [
       "0.08388883191467542"
      ]
     },
     "execution_count": 84,
     "metadata": {},
     "output_type": "execute_result"
    }
   ],
   "source": [
    "f1_score(y_test,rfc_ypred)"
   ]
  },
  {
   "cell_type": "code",
   "execution_count": 85,
   "metadata": {
    "execution": {
     "iopub.execute_input": "2023-03-22T18:27:28.571145Z",
     "iopub.status.busy": "2023-03-22T18:27:28.570559Z",
     "iopub.status.idle": "2023-03-22T18:27:28.769459Z",
     "shell.execute_reply": "2023-03-22T18:27:28.768055Z",
     "shell.execute_reply.started": "2023-03-22T18:27:28.571066Z"
    }
   },
   "outputs": [
    {
     "name": "stdout",
     "output_type": "stream",
     "text": [
      "              precision    recall  f1-score   support\n",
      "\n",
      "           0       0.92      0.99      0.96     97508\n",
      "           1       0.58      0.09      0.15      9091\n",
      "\n",
      "    accuracy                           0.92    106599\n",
      "   macro avg       0.75      0.54      0.56    106599\n",
      "weighted avg       0.89      0.92      0.89    106599\n",
      "\n"
     ]
    }
   ],
   "source": [
    "print(classification_report(y_test,xgb_ypred))"
   ]
  },
  {
   "cell_type": "code",
   "execution_count": 86,
   "metadata": {
    "execution": {
     "iopub.execute_input": "2023-03-22T18:27:28.772072Z",
     "iopub.status.busy": "2023-03-22T18:27:28.771647Z",
     "iopub.status.idle": "2023-03-22T18:27:28.954300Z",
     "shell.execute_reply": "2023-03-22T18:27:28.952939Z",
     "shell.execute_reply.started": "2023-03-22T18:27:28.772025Z"
    }
   },
   "outputs": [
    {
     "data": {
      "image/png": "[encoded data removed]",
      "text/plain": [
       "<Figure size 432x288 with 1 Axes>"
      ]
     },
     "metadata": {
      "needs_background": "light"
     },
     "output_type": "display_data"
    }
   ],
   "source": [
    "conf_mat = confusion_matrix(y_test, xgb_ypred)\n",
    "\n",
    "fig, ax = plot_confusion_matrix(conf_mat=conf_mat,\n",
    "                                show_normed=True,\n",
    "                                show_absolute=False,\n",
    "                                figsize=(6, 4))\n",
    "fig.show()"
   ]
  },
  {
   "cell_type": "markdown",
   "metadata": {},
   "source": [
    "## COMPARE ALL MODEL"
   ]
  },
  {
   "cell_type": "code",
   "execution_count": 87,
   "metadata": {
    "execution": {
     "iopub.execute_input": "2023-03-22T18:27:28.957407Z",
     "iopub.status.busy": "2023-03-22T18:27:28.956747Z",
     "iopub.status.idle": "2023-03-22T18:27:28.986232Z",
     "shell.execute_reply": "2023-03-22T18:27:28.983530Z",
     "shell.execute_reply.started": "2023-03-22T18:27:28.957349Z"
    }
   },
   "outputs": [
    {
     "data": {
      "text/html": [
       "<div>\n",
       "<style scoped>\n",
       "    .dataframe tbody tr th:only-of-type {\n",
       "        vertical-align: middle;\n",
       "    }\n",
       "\n",
       "    .dataframe tbody tr th {\n",
       "        vertical-align: top;\n",
       "    }\n",
       "\n",
       "    .dataframe thead th {\n",
       "        text-align: right;\n",
       "    }\n",
       "</style>\n",
       "<table border=\"1\" class=\"dataframe\">\n",
       "  <thead>\n",
       "    <tr style=\"text-align: right;\">\n",
       "      <th></th>\n",
       "      <th>Score</th>\n",
       "    </tr>\n",
       "    <tr>\n",
       "      <th>Model</th>\n",
       "      <th></th>\n",
       "    </tr>\n",
       "  </thead>\n",
       "  <tbody>\n",
       "    <tr>\n",
       "      <th>XGBoost</th>\n",
       "      <td>0.916810</td>\n",
       "    </tr>\n",
       "    <tr>\n",
       "      <th>Random Forest</th>\n",
       "      <td>0.916810</td>\n",
       "    </tr>\n",
       "    <tr>\n",
       "      <th>Logistic Regression</th>\n",
       "      <td>0.915834</td>\n",
       "    </tr>\n",
       "    <tr>\n",
       "      <th>KNN</th>\n",
       "      <td>0.912504</td>\n",
       "    </tr>\n",
       "    <tr>\n",
       "      <th>Naive Bayes</th>\n",
       "      <td>0.842841</td>\n",
       "    </tr>\n",
       "  </tbody>\n",
       "</table>\n",
       "</div>"
      ],
      "text/plain": [
       "                        Score\n",
       "Model                        \n",
       "XGBoost              0.916810\n",
       "Random Forest        0.916810\n",
       "Logistic Regression  0.915834\n",
       "KNN                  0.912504\n",
       "Naive Bayes          0.842841"
      ]
     },
     "execution_count": 87,
     "metadata": {},
     "output_type": "execute_result"
    }
   ],
   "source": [
    "results = pd.DataFrame({\n",
    "    'Model': ['KNN', 'Logistic Regression', 'Naive Bayes', \n",
    "              'XGBoost', 'Random Forest'],\n",
    "    'Score': [acc_knn, acc_lor, acc_gnb, acc_xgb, acc_rfc]})\n",
    "   \n",
    "result_df = results.sort_values(by='Score', ascending=False)\n",
    "result_df = result_df.set_index('Model')\n",
    "result_df"
   ]
  },
  {
   "cell_type": "code",
   "execution_count": null,
   "metadata": {},
   "outputs": [],
   "source": []
  }
 ],
 "metadata": {
  "kernelspec": {
   "display_name": "Python 3 (ipykernel)",
   "language": "python",
   "name": "python3"
  },
  "language_info": {
   "codemirror_mode": {
    "name": "ipython",
    "version": 3
   },
   "file_extension": ".py",
   "mimetype": "text/x-python",
   "name": "python",
   "nbconvert_exporter": "python",
   "pygments_lexer": "ipython3",
   "version": "3.9.12"
  }
 },
 "nbformat": 4,
 "nbformat_minor": 4
}
